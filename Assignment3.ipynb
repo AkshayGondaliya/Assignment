{
 "cells": [
  {
   "cell_type": "markdown",
   "metadata": {},
   "source": [
    "# program 1"
   ]
  },
  {
   "cell_type": "code",
   "execution_count": 117,
   "metadata": {},
   "outputs": [
    {
     "name": "stdout",
     "output_type": "stream",
     "text": [
      "the sum= 30\n"
     ]
    }
   ],
   "source": [
    "def myReduce(sum,k):\n",
    "    \n",
    "    a=sum(k)\n",
    "    print(\"the sum=\",a)\n",
    "def sum(l):\n",
    "    total=0\n",
    "    for i in range(len(l)):\n",
    "        total=total+l[i]\n",
    "    return total\n",
    "\n",
    "k=[0,2,3,4,10,5,6]  \n",
    "\n",
    "myReduce(sum,k)"
   ]
  },
  {
   "cell_type": "markdown",
   "metadata": {},
   "source": [
    "# program 2"
   ]
  },
  {
   "cell_type": "code",
   "execution_count": 184,
   "metadata": {},
   "outputs": [
    {
     "name": "stdout",
     "output_type": "stream",
     "text": [
      "the odds= [3, 5, 7, 7, 7, 5, 3, 1, 5, 5]\n"
     ]
    }
   ],
   "source": [
    "def myfilter(odd,k):\n",
    "    \n",
    "    a=odd(k)\n",
    "    print(\"the odds=\",a)\n",
    "def odd(l):\n",
    "    g=[]\n",
    "    for i in l:\n",
    "        if(i%2!=0):\n",
    "            g.append(i)\n",
    "    return g\n",
    "\n",
    "k=[0,3,4,5,6,7,7,7,5,4,3,8,6,1,5,6,5]  \n",
    "\n",
    "myfilter(odd,k) "
   ]
  },
  {
   "cell_type": "markdown",
   "metadata": {},
   "source": [
    "# program 3"
   ]
  },
  {
   "cell_type": "code",
   "execution_count": 26,
   "metadata": {},
   "outputs": [
    {
     "name": "stdout",
     "output_type": "stream",
     "text": [
      "['x', 'xx', 'xxx', 'xxxx', 'y', 'yy', 'yyy', 'yyyy', 'z', 'zz', 'zzz', 'zzzz']\n"
     ]
    }
   ],
   "source": [
    "ar=['x','y','z']\n",
    "inal=[]\n",
    "\n",
    "for j in ar:\n",
    "    for k in range(1,5):\n",
    "        s=j*k\n",
    "        inal.append(s)\n",
    "        \n",
    "print(inal)    "
   ]
  },
  {
   "cell_type": "code",
   "execution_count": 202,
   "metadata": {},
   "outputs": [
    {
     "name": "stdout",
     "output_type": "stream",
     "text": [
      "['x', 'y', 'z', 'xx', 'yy', 'zz', 'xxx', 'yyy', 'zzz', 'xxxx', 'yyyy', 'zzzz']\n"
     ]
    }
   ],
   "source": [
    "arr=['x','y','z']\n",
    "final=[]\n",
    "\n",
    "for k in range(1,5):\n",
    "    for j in arr:\n",
    "        s=j*k\n",
    "        final.append(s)\n",
    "        \n",
    "print(final)        "
   ]
  },
  {
   "cell_type": "code",
   "execution_count": 64,
   "metadata": {},
   "outputs": [
    {
     "name": "stdout",
     "output_type": "stream",
     "text": [
      "[[2, 3, 4, 5], [3, 4, 5, 6], [4, 5, 6, 7], [5, 6, 7, 8]]\n"
     ]
    }
   ],
   "source": [
    "import numpy as np\n",
    "E=[]\n",
    "k=[]\n",
    "j=2\n",
    "for i in range(6,10):\n",
    "    \n",
    "    k.append(list(np.arange(j,i)))\n",
    "    \n",
    "    if(j==6):\n",
    "        break;\n",
    "    else:\n",
    "        j=j+1\n",
    "\n",
    "print(k)        "
   ]
  },
  {
   "cell_type": "code",
   "execution_count": 74,
   "metadata": {},
   "outputs": [
    {
     "data": {
      "text/plain": [
       "[[2], [3], [4], [3], [4], [5], [4], [5], [6]]"
      ]
     },
     "execution_count": 74,
     "metadata": {},
     "output_type": "execute_result"
    }
   ],
   "source": [
    "E=[2,3,4];\n",
    "res_arr=[];\n",
    "for i in range(0,3):\n",
    "    \n",
    "    for j in range(0,3):\n",
    "        \n",
    "        loc_arr=[];\n",
    "        loc_arr.append(E[j]);\n",
    "        res_arr.append(loc_arr);\n",
    "        E[j]=E[j]+1;\n",
    "        \n",
    "res_arr        "
   ]
  },
  {
   "cell_type": "code",
   "execution_count": 76,
   "metadata": {},
   "outputs": [
    {
     "name": "stdout",
     "output_type": "stream",
     "text": [
      "[(1, 1), (2, 1), (3, 1), (1, 2), (2, 2), (3, 2), (1, 3), (2, 3), (3, 3)]\n"
     ]
    }
   ],
   "source": [
    "res=[];\n",
    "for i in range(1,4):\n",
    "    for j in range(1,4):\n",
    "        inn_list=[];\n",
    "        inn_list.append(j)\n",
    "        inn_list.append(i)\n",
    "        g=tuple(inn_list);\n",
    "        res.append(g);\n",
    "        \n",
    "print(res)"
   ]
  }
 ],
 "metadata": {
  "kernelspec": {
   "display_name": "Python 3",
   "language": "python",
   "name": "python3"
  },
  "language_info": {
   "codemirror_mode": {
    "name": "ipython",
    "version": 3
   },
   "file_extension": ".py",
   "mimetype": "text/x-python",
   "name": "python",
   "nbconvert_exporter": "python",
   "pygments_lexer": "ipython3",
   "version": "3.8.3"
  }
 },
 "nbformat": 4,
 "nbformat_minor": 4
}
