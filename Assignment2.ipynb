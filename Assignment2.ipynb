{
 "cells": [
  {
   "cell_type": "markdown",
   "metadata": {},
   "source": [
    "# program1\n"
   ]
  },
  {
   "cell_type": "code",
   "execution_count": 57,
   "metadata": {
    "scrolled": true
   },
   "outputs": [
    {
     "name": "stdout",
     "output_type": "stream",
     "text": [
      "\n",
      "\n",
      " * \n",
      "\n",
      " * * \n",
      "\n",
      " * * * \n",
      "\n",
      " * * * * \n",
      "\n",
      " * * * * * \n",
      "\n",
      " * * * * \n",
      "\n",
      " * * * \n",
      "\n",
      " * * \n",
      "\n",
      " * \n",
      "\n",
      " "
     ]
    }
   ],
   "source": [
    "m=1\n",
    "for i in range(10):\n",
    "    if(i<=5):\n",
    "        \n",
    "        for j in range(i):\n",
    "            print(\"*\",end=\" \")\n",
    "        print(\"\\n\")\n",
    "        print(end=\" \")   \n",
    "    \n",
    "    else:\n",
    "        \n",
    "        for l in range(0,i-(2*m)):\n",
    "            print('*',end=\" \")\n",
    "        m=m+1\n",
    "        print(\"\\n\")\n",
    "        print(end=\" \")"
   ]
  },
  {
   "cell_type": "markdown",
   "metadata": {},
   "source": [
    "# program2"
   ]
  },
  {
   "cell_type": "code",
   "execution_count": 58,
   "metadata": {},
   "outputs": [
    {
     "name": "stdout",
     "output_type": "stream",
     "text": [
      "enter your stringakshay\n"
     ]
    }
   ],
   "source": [
    "a=input(\"enter your string\")"
   ]
  },
  {
   "cell_type": "code",
   "execution_count": 67,
   "metadata": {},
   "outputs": [
    {
     "name": "stdout",
     "output_type": "stream",
     "text": [
      "yahska\n"
     ]
    }
   ],
   "source": [
    "def reverse(a): \n",
    "  str = \"\" \n",
    "  for i in a: \n",
    "    str = i + str\n",
    "  return str\n",
    "print (reverse(a))"
   ]
  },
  {
   "cell_type": "code",
   "execution_count": null,
   "metadata": {},
   "outputs": [],
   "source": []
  }
 ],
 "metadata": {
  "kernelspec": {
   "display_name": "Python 3",
   "language": "python",
   "name": "python3"
  },
  "language_info": {
   "codemirror_mode": {
    "name": "ipython",
    "version": 3
   },
   "file_extension": ".py",
   "mimetype": "text/x-python",
   "name": "python",
   "nbconvert_exporter": "python",
   "pygments_lexer": "ipython3",
   "version": "3.8.3"
  }
 },
 "nbformat": 4,
 "nbformat_minor": 4
}
