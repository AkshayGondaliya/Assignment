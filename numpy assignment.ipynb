{
 "cells": [
  {
   "cell_type": "markdown",
   "metadata": {},
   "source": [
    "## solution 1"
   ]
  },
  {
   "cell_type": "code",
   "execution_count": 15,
   "metadata": {},
   "outputs": [
    {
     "name": "stdout",
     "output_type": "stream",
     "text": [
      "[[  1   1   1   1   1]\n",
      " [  1   2   4   8  16]\n",
      " [  1   3   9  27  81]\n",
      " [  1   4  16  64 256]\n",
      " [  1   5  25 125 625]]\n"
     ]
    }
   ],
   "source": [
    "import numpy as np # Library import operation\n",
    "\n",
    "def V_to_M(x,N): # Function\n",
    "    matrix = np.column_stack([x**(N-i-1) for i in range(4,-1,-1)]) # matrix generator based on the given requirement.\n",
    "    print(matrix)\n",
    "\n",
    "\n",
    "a=np.array([1,2,3,4,5]) # the vactor\n",
    "b=5 \n",
    "V_to_M(a,b) # Function calling"
   ]
  },
  {
   "cell_type": "markdown",
   "metadata": {},
   "source": [
    "## solution 2"
   ]
  },
  {
   "cell_type": "code",
   "execution_count": 35,
   "metadata": {},
   "outputs": [
    {
     "name": "stdout",
     "output_type": "stream",
     "text": [
      "List of average values [5.0, 9.666666666666666, 15.333333333333334, 22.0, 31.666666666666668, 60.333333333333336, 109.66666666666667, 182.33333333333334, 266.3333333333333, 359.6666666666667, 476.0]\n",
      "The moving average sequence has 11 values\n"
     ]
    }
   ],
   "source": [
    "def avg(a,k,n):\n",
    "    \n",
    "    lis=[];\n",
    "    avg_list=[];\n",
    "    for i in range(n-k+1):\n",
    "        \n",
    "        for j in range(k):\n",
    "            \n",
    "            lis.append(a[i+j])\n",
    "            \n",
    "        avg=np.sum(lis)/k\n",
    "        avg_list.append(avg)\n",
    "        \n",
    "    print(\"List of average values\" , avg_list)\n",
    "    print(\"The moving average sequence has\", len(avg_list) , \"values\")\n",
    "            \n",
    "a=np.array([3, 5, 7, 2, 8, 10, 11, 65, 72, 81, 99, 100, 150])\n",
    "k=3\n",
    "n=13\n",
    "\n",
    "avg(a,k,n)"
   ]
  }
 ],
 "metadata": {
  "kernelspec": {
   "display_name": "Python 3",
   "language": "python",
   "name": "python3"
  },
  "language_info": {
   "codemirror_mode": {
    "name": "ipython",
    "version": 3
   },
   "file_extension": ".py",
   "mimetype": "text/x-python",
   "name": "python",
   "nbconvert_exporter": "python",
   "pygments_lexer": "ipython3",
   "version": "3.8.3"
  }
 },
 "nbformat": 4,
 "nbformat_minor": 4
}
