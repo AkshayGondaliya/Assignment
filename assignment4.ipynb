{
 "cells": [
  {
   "cell_type": "markdown",
   "metadata": {},
   "source": [
    "# program 1.1"
   ]
  },
  {
   "cell_type": "code",
   "execution_count": 140,
   "metadata": {},
   "outputs": [
    {
     "name": "stdout",
     "output_type": "stream",
     "text": [
      "enter the side value 1=3\n",
      "enter the side value 2=4\n",
      "enter the side value 3=5\n",
      "6.0\n",
      "the area of triangle= 6.0\n"
     ]
    }
   ],
   "source": [
    "class Parent:\n",
    "    def __init__(self,a,b,c):\n",
    "        self.si1=a\n",
    "        self.si2=b\n",
    "        self.si3=c\n",
    "\n",
    "        \n",
    "class Child(Parent):\n",
    "    def area(self):\n",
    "        side1=self.si1\n",
    "        side2=self.si2\n",
    "        side3=self.si3\n",
    "        \n",
    "        s=(side1+side2+side3)/2\n",
    "        print(s)\n",
    "        \n",
    "        Area=(s*(s-side1)*(s-side2)*(s-side3))**0.5\n",
    "        return Area;\n",
    "    \n",
    "x,y,z=int(input(\"enter the side value 1=\")) , int(input(\"enter the side value 2=\")) ,int(input(\"enter the side value 3=\"))\n",
    "\n",
    "p1=Child(x,y,z);\n",
    "print(\"the area of triangle=\" , p1.area())"
   ]
  },
  {
   "cell_type": "markdown",
   "metadata": {},
   "source": [
    "# program 1.2"
   ]
  },
  {
   "cell_type": "code",
   "execution_count": 128,
   "metadata": {},
   "outputs": [
    {
     "name": "stdout",
     "output_type": "stream",
     "text": [
      "list of words which length is greter than n= ['akshay', 'patel', 'manai']\n"
     ]
    }
   ],
   "source": [
    "\n",
    "stri = [\"akshay\", \"patel\", \"jani\", \"manai\", \"dell\"]\n",
    "\n",
    "def filter_long_words(list1,n):\n",
    "    result=[];\n",
    "    for i in range(len(list1)):\n",
    "        \n",
    "        if((len(list1[i]))>n):\n",
    "            result.append(list1[i]);\n",
    "        else:\n",
    "            continue;\n",
    "    return(result);\n",
    "\n",
    "print(\"list of words which length is greter than n=\",filter_long_words(stri,4))\n"
   ]
  },
  {
   "cell_type": "markdown",
   "metadata": {},
   "source": [
    "# program 2.1"
   ]
  },
  {
   "cell_type": "code",
   "execution_count": 127,
   "metadata": {},
   "outputs": [
    {
     "name": "stdout",
     "output_type": "stream",
     "text": [
      "string to integer converted list= [4, 5, 4, 5, 4, 5, 9]\n"
     ]
    }
   ],
   "source": [
    "exa=[\"akki\",\"patel\",\"amit\",\"nagar\",\"char\",\"rasta\",\"vrindavan\"]\n",
    "\n",
    "def string_to_int(list):\n",
    "    for i in range(len(list)):\n",
    "        list[i]=len(list[i]);\n",
    "    \n",
    "    return(list);\n",
    "\n",
    "print(\"string to integer converted list=\",string_to_int(exa))"
   ]
  },
  {
   "cell_type": "markdown",
   "metadata": {},
   "source": [
    "#  program 2.2"
   ]
  },
  {
   "cell_type": "code",
   "execution_count": 138,
   "metadata": {},
   "outputs": [
    {
     "name": "stdout",
     "output_type": "stream",
     "text": [
      "is vowel?= [True, False, True, False, False, True, False, False, True]\n"
     ]
    }
   ],
   "source": [
    "sign=['a','s','e','g','h','i','j','k','o']\n",
    "\n",
    "def find_vowel(list):\n",
    "    final=[]\n",
    "    wow=['a','e','i','o','u']\n",
    "    for i in list:\n",
    "        a=(i in wow)\n",
    "        final.append(a);\n",
    "    return(final);    \n",
    "            \n",
    "    \n",
    "\n",
    "print(\"is vowel?=\" ,find_vowel(sign))"
   ]
  },
  {
   "cell_type": "code",
   "execution_count": null,
   "metadata": {},
   "outputs": [],
   "source": []
  },
  {
   "cell_type": "code",
   "execution_count": null,
   "metadata": {},
   "outputs": [],
   "source": []
  }
 ],
 "metadata": {
  "kernelspec": {
   "display_name": "Python 3",
   "language": "python",
   "name": "python3"
  },
  "language_info": {
   "codemirror_mode": {
    "name": "ipython",
    "version": 3
   },
   "file_extension": ".py",
   "mimetype": "text/x-python",
   "name": "python",
   "nbconvert_exporter": "python",
   "pygments_lexer": "ipython3",
   "version": "3.8.3"
  }
 },
 "nbformat": 4,
 "nbformat_minor": 4
}
