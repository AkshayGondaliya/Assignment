{
 "cells": [
  {
   "cell_type": "markdown",
   "metadata": {},
   "source": [
    "# program 1"
   ]
  },
  {
   "cell_type": "code",
   "execution_count": 9,
   "metadata": {},
   "outputs": [
    {
     "name": "stdout",
     "output_type": "stream",
     "text": [
      "during the run time= division by zero error is accrued\n"
     ]
    }
   ],
   "source": [
    "def division():\n",
    "    c=5/0\n",
    "try:\n",
    "    division();\n",
    "except ZeroDivisionError as err:\n",
    "    print(\"during the run time=\",err,\"error is accrued\");"
   ]
  },
  {
   "cell_type": "markdown",
   "metadata": {},
   "source": [
    "# program 2"
   ]
  },
  {
   "cell_type": "code",
   "execution_count": 16,
   "metadata": {},
   "outputs": [
    {
     "name": "stdout",
     "output_type": "stream",
     "text": [
      " Americans play Baseball.\n",
      " Americans play Cricket.\n",
      " Americans watch Baseball.\n",
      " Americans watch Cricket.\n",
      " indians play Baseball.\n",
      " indians play Cricket.\n",
      " indians watch Baseball.\n",
      " indians watch Cricket.\n"
     ]
    }
   ],
   "source": [
    "objects=[\"Baseball\",\"Cricket\"]\n",
    "verbs=[\"play\",\"watch\"]\n",
    "subjects=[\"Americans\",\"indians\"]\n",
    "\n",
    "str=\" \"\n",
    "\n",
    "for i in subjects:\n",
    "    for j in verbs:\n",
    "        for k in objects:\n",
    "            str+=i+\" \"+j+\" \"+k+\".\";\n",
    "            print(str);\n",
    "            str=\" \""
   ]
  },
  {
   "cell_type": "code",
   "execution_count": null,
   "metadata": {},
   "outputs": [],
   "source": []
  },
  {
   "cell_type": "code",
   "execution_count": null,
   "metadata": {},
   "outputs": [],
   "source": []
  }
 ],
 "metadata": {
  "kernelspec": {
   "display_name": "Python 3",
   "language": "python",
   "name": "python3"
  },
  "language_info": {
   "codemirror_mode": {
    "name": "ipython",
    "version": 3
   },
   "file_extension": ".py",
   "mimetype": "text/x-python",
   "name": "python",
   "nbconvert_exporter": "python",
   "pygments_lexer": "ipython3",
   "version": "3.8.3"
  }
 },
 "nbformat": 4,
 "nbformat_minor": 4
}
