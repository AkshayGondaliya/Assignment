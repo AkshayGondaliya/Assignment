{
 "cells": [
  {
   "cell_type": "markdown",
   "metadata": {},
   "source": [
    "# program 1\n"
   ]
  },
  {
   "cell_type": "code",
   "execution_count": 1,
   "metadata": {},
   "outputs": [],
   "source": [
    "import numpy as np\n",
    "import pandas as pd"
   ]
  },
  {
   "cell_type": "code",
   "execution_count": 2,
   "metadata": {},
   "outputs": [
    {
     "data": {
      "text/plain": [
       "array([2000, 2001, 2002, ..., 3198, 3199, 3200])"
      ]
     },
     "execution_count": 2,
     "metadata": {},
     "output_type": "execute_result"
    }
   ],
   "source": [
    "numbers= np.arange(2000,3201)\n",
    "numbers\n"
   ]
  },
  {
   "cell_type": "code",
   "execution_count": 3,
   "metadata": {},
   "outputs": [
    {
     "name": "stdout",
     "output_type": "stream",
     "text": [
      "[2002, 2009, 2016, 2023, 2037, 2044, 2051, 2058, 2072, 2079, 2086, 2093, 2107, 2114, 2121, 2128, 2142, 2149, 2156, 2163, 2177, 2184, 2191, 2198, 2212, 2219, 2226, 2233, 2247, 2254, 2261, 2268, 2282, 2289, 2296, 2303, 2317, 2324, 2331, 2338, 2352, 2359, 2366, 2373, 2387, 2394, 2401, 2408, 2422, 2429, 2436, 2443, 2457, 2464, 2471, 2478, 2492, 2499, 2506, 2513, 2527, 2534, 2541, 2548, 2562, 2569, 2576, 2583, 2597, 2604, 2611, 2618, 2632, 2639, 2646, 2653, 2667, 2674, 2681, 2688, 2702, 2709, 2716, 2723, 2737, 2744, 2751, 2758, 2772, 2779, 2786, 2793, 2807, 2814, 2821, 2828, 2842, 2849, 2856, 2863, 2877, 2884, 2891, 2898, 2912, 2919, 2926, 2933, 2947, 2954, 2961, 2968, 2982, 2989, 2996, 3003, 3017, 3024, 3031, 3038, 3052, 3059, 3066, 3073, 3087, 3094, 3101, 3108, 3122, 3129, 3136, 3143, 3157, 3164, 3171, 3178, 3192, 3199]\n"
     ]
    }
   ],
   "source": [
    "output = []\n",
    "\n",
    "for i in numbers:\n",
    "     if(i%7==0):\n",
    "         if(i%5!=0):\n",
    "             output.append(i)\n",
    "             \n",
    "print(output)              \n",
    "\n",
    "            \n",
    "\n",
    " \n",
    "            \n",
    "\n"
   ]
  },
  {
   "cell_type": "markdown",
   "metadata": {},
   "source": [
    "# program2"
   ]
  },
  {
   "cell_type": "code",
   "execution_count": 74,
   "metadata": {},
   "outputs": [
    {
     "name": "stdout",
     "output_type": "stream",
     "text": [
      "enter your first nameakshay\n",
      "enter your last namegondaloya\n"
     ]
    }
   ],
   "source": [
    "first_name= input('enter your first name')\n",
    "last_name= input('enter your last name')\n"
   ]
  },
  {
   "cell_type": "code",
   "execution_count": 75,
   "metadata": {},
   "outputs": [
    {
     "name": "stdout",
     "output_type": "stream",
     "text": [
      "[6, 9]\n",
      "['yahska', 'ayoladnog']\n"
     ]
    }
   ],
   "source": [
    "\n",
    "\n",
    "    container1= []\n",
    "    container2= []\n",
    "    length_of_name=[]\n",
    "    \n",
    "    index1=len(first_name)\n",
    "    index2=len(last_name)\n",
    "    \n",
    "    length_of_name.append(index1)\n",
    "    length_of_name.append(index2)\n",
    "    print(length_of_name)\n",
    "    counter=0\n",
    "    for i in length_of_name:\n",
    "    \n",
    "        while i > 0:\n",
    "           \n",
    "            if(counter==0):\n",
    "                container1.append(first_name[i-1])   \n",
    "                i=i-1\n",
    "                \n",
    "            else :\n",
    "                container2.append(last_name[i-1])  \n",
    "                i=i-1\n",
    "        counter+=1      \n",
    "   \n",
    "                \n",
    "            \n",
    "def listToString(container1,container2):  \n",
    "    \n",
    "        \n",
    "        str1 = \"\"  \n",
    "    \n",
    "       \n",
    "        for ele in container1:  \n",
    "            str1 += ele   \n",
    "    \n",
    "               \n",
    "        str2 = \"\"  \n",
    "    \n",
    "       \n",
    "        for ele in container2:  \n",
    "            str2 += ele   \n",
    "        \n",
    "        \n",
    "        return(str1,str2) \n",
    "        \n",
    "  \n",
    "\n",
    "j=(listToString(container1,container2)) \n",
    "reverse_name_list=list(j)\n",
    "print(reverse_name_list)\n",
    "\n",
    " "
   ]
  },
  {
   "cell_type": "code",
   "execution_count": 76,
   "metadata": {},
   "outputs": [
    {
     "name": "stdout",
     "output_type": "stream",
     "text": [
      "yahska ayoladnog\n"
     ]
    }
   ],
   "source": [
    "def finalstring(s):  \n",
    "    str3 = \" \" \n",
    "    \n",
    "    \n",
    "    return (str3.join(s)) \n",
    "        \n",
    "        \n",
    "\n",
    "\n",
    "print(finalstring(reverse_name_list))"
   ]
  },
  {
   "cell_type": "markdown",
   "metadata": {},
   "source": [
    "# program3"
   ]
  },
  {
   "cell_type": "code",
   "execution_count": 85,
   "metadata": {},
   "outputs": [
    {
     "name": "stdout",
     "output_type": "stream",
     "text": [
      "enter a radious=12\n"
     ]
    }
   ],
   "source": [
    "r=int(input(\"enter a radious=\"))"
   ]
  },
  {
   "cell_type": "code",
   "execution_count": 86,
   "metadata": {},
   "outputs": [
    {
     "name": "stdout",
     "output_type": "stream",
     "text": [
      "volume of sphare(v)= 7234.5599999999995 cm^3\n"
     ]
    }
   ],
   "source": [
    "def volume(r):\n",
    "    pi=3.14\n",
    "    v=(4/3)*pi*(r**3)\n",
    "    return(v)\n",
    "print(\"volume of sphare(v)=\",volume(r),'cm^3')"
   ]
  },
  {
   "cell_type": "code",
   "execution_count": null,
   "metadata": {},
   "outputs": [],
   "source": []
  }
 ],
 "metadata": {
  "kernelspec": {
   "display_name": "Python 3",
   "language": "python",
   "name": "python3"
  },
  "language_info": {
   "codemirror_mode": {
    "name": "ipython",
    "version": 3
   },
   "file_extension": ".py",
   "mimetype": "text/x-python",
   "name": "python",
   "nbconvert_exporter": "python",
   "pygments_lexer": "ipython3",
   "version": "3.8.3"
  }
 },
 "nbformat": 4,
 "nbformat_minor": 4
}
